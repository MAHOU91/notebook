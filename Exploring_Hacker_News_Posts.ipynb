{
 "cells": [
  {
   "cell_type": "markdown",
   "metadata": {
    "collapsed": true
   },
   "source": [
    "# Exploring Hacker News Posts\n",
    "\n",
    "The purpose of this project is to break into Hacker News website, and deal with the content of posts( also knows as \"stories\") submitted by users . [Hacker News][1] is  a site started by the startup incubator **Y Combinator**, where user-submitted stories are voted and commented upon, simalar to reddit.\n",
    "\n",
    "Our main objective is to analyze posts whose titles begin with either `Ask HN` or `Show HN`, and answer the following questions :\n",
    "\n",
    "* Do `Ask HN` or `Show HN` receive more comments on average?\n",
    "* Do these posts created at a certain time receive more comments on average?\n",
    "\n",
    "Generally, users submit `Ask HN` posts to ask the Hacker News community a specific question. Here are a couple examples :\n",
    "```\n",
    "Ask HN: how to improve my personal website?\n",
    "Ask HN: Am I the only one outraged by Twitter shutting down share counts?\n",
    "\n",
    "```\n",
    "\n",
    "Similarly, users submit `Show HN` posts to show a project, a product, or just something interesting. Below are a couple of examples:\n",
    "```\n",
    "Show HN: Wio Link ESP8266 Based Web of things Hardware Development Platform\n",
    "Show HN: Something pointless I made\n",
    "```\n",
    "\n",
    "Let's begin our journey by look into the `hacker_news.csv` available [here][2]. We will perform a quick view of the data set to understand a little bit about the data stored in. Then, we will convert the csv file to a list of lists.\n",
    "[1]: https://news.ycombinator.com/\n",
    "[2]: https://www.kaggle.com/hacker-news/hacker-news-posts"
   ]
  },
  {
   "cell_type": "code",
   "execution_count": 2,
   "metadata": {
    "collapsed": false
   },
   "outputs": [
    {
     "name": "stdout",
     "output_type": "stream",
     "text": [
      "['id', 'title', 'url', 'num_points', 'num_comments', 'author', 'created_at'] \n",
      "\n",
      "['12224879', 'Interactive Dynamic Video', 'http://www.interactivedynamicvideo.com/', '386', '52', 'ne0phyte', '8/4/2016 11:52'] \n",
      "\n",
      "['10975351', 'How to Use Open Source and Shut the Fuck Up at the Same Time', 'http://hueniverse.com/2016/01/26/how-to-use-open-source-and-shut-the-fuck-up-at-the-same-time/', '39', '10', 'josep2', '1/26/2016 19:30'] \n",
      "\n",
      "['11964716', \"Florida DJs May Face Felony for April Fools' Water Joke\", 'http://www.thewire.com/entertainment/2013/04/florida-djs-april-fools-water-joke/63798/', '2', '1', 'vezycash', '6/23/2016 22:20'] \n",
      "\n"
     ]
    }
   ],
   "source": [
    "#Importing the csv module with its methods\n",
    "from csv import reader\n",
    "#opened the \"hacker_news.csv.csv\", and stored the data in the variable\n",
    "opened_file = open( \"hacker_news.csv\", encoding =\"UTF-8\" )\n",
    "#read the opened file\n",
    "read_file = reader( opened_file )\n",
    "#Convert the read file as a list of lists\n",
    "hn = list( read_file )\n",
    "\n",
    "#Now, let's us display the first five rows of hn\n",
    "for row in hn[0:4] :\n",
    "    print( row,\"\\n\" )"
   ]
  },
  {
   "cell_type": "markdown",
   "metadata": {},
   "source": [
    "The First row above is the header of the data set with 7 columns. Below are descriptions of the columns:\n",
    "\n",
    "* `id`: The unique identifier from Hacker News for the post.\n",
    "* `title`: The title of the post.\n",
    "* `url`: The url that the posts links to, if it the post has a URL.\n",
    "* `num_points`: The number of points the post acquired, calculated as the total number of upvotes mius the total number of downvotes.\n",
    "* `num_comments`: The number of comments that were made on the post.\n",
    "* `author`: The username of the person who submitthed the post.\n",
    "* `created_at`: The date and time at which the post was submitted.\n",
    "\n",
    "## 1. Removing headers from our lists of list\n",
    "\n",
    "In order to perform our analysis, we must separate the first row containing the column headers with `hn` data set."
   ]
  },
  {
   "cell_type": "code",
   "execution_count": 3,
   "metadata": {
    "collapsed": false
   },
   "outputs": [
    {
     "name": "stdout",
     "output_type": "stream",
     "text": [
      "['id', 'title', 'url', 'num_points', 'num_comments', 'author', 'created_at']\n"
     ]
    }
   ],
   "source": [
    "#Extract the first row of data from hn data set, and assign it to the variable headers\n",
    "headers = hn[ 0 ]\n",
    "#Remove the first row from hn\n",
    "hn = hn[ 1: ]\n",
    "#Print the headers list\n",
    "print( headers )"
   ]
  },
  {
   "cell_type": "markdown",
   "metadata": {},
   "source": [
    "Fantastic ! We have succefully stored the column headers in a list named `headers`. Now, let's display the first five rows of `hn` once again to be shure we have removed the header row properly."
   ]
  },
  {
   "cell_type": "code",
   "execution_count": 4,
   "metadata": {
    "collapsed": false
   },
   "outputs": [
    {
     "name": "stdout",
     "output_type": "stream",
     "text": [
      "[['12224879', 'Interactive Dynamic Video', 'http://www.interactivedynamicvideo.com/', '386', '52', 'ne0phyte', '8/4/2016 11:52'], ['10975351', 'How to Use Open Source and Shut the Fuck Up at the Same Time', 'http://hueniverse.com/2016/01/26/how-to-use-open-source-and-shut-the-fuck-up-at-the-same-time/', '39', '10', 'josep2', '1/26/2016 19:30'], ['11964716', \"Florida DJs May Face Felony for April Fools' Water Joke\", 'http://www.thewire.com/entertainment/2013/04/florida-djs-april-fools-water-joke/63798/', '2', '1', 'vezycash', '6/23/2016 22:20'], ['11919867', 'Technology ventures: From Idea to Enterprise', 'https://www.amazon.com/Technology-Ventures-Enterprise-Thomas-Byers/dp/0073523429', '3', '1', 'hswarna', '6/17/2016 0:01']]\n"
     ]
    }
   ],
   "source": [
    "print( hn[ 0:4 ] )"
   ]
  },
  {
   "cell_type": "markdown",
   "metadata": {},
   "source": [
    "Perfect ! As headers have been removed from `hn`, we're ready to filter our data.\n",
    "\n",
    "## 2. Extracting Ask HN and Show HN Posts.\n",
    "\n",
    "Since we're only concerned with post titles beginning with either `Ask HN` or `Show HN`, we'll create news lists of lists containaing just the data for thoses titles.\n",
    "\n",
    "Therefore, we can take advantages of the string method called `startswith()`. With this method, we can check whether a string starts with a specfic substring. For instance, string1.startswith('dq') will return `True` if string1 starts with 'dq'. Otherwise, it will return `False`.\n",
    "\n",
    "Now is the time to separate posts beginning with `Ask HN` and `Show HN` as well into two different lists."
   ]
  },
  {
   "cell_type": "code",
   "execution_count": 5,
   "metadata": {
    "collapsed": false
   },
   "outputs": [
    {
     "name": "stdout",
     "output_type": "stream",
     "text": [
      "Number of Ask HN's posts :  1744\n",
      "Number of Show HN's posts :  1162\n",
      "Number of other posts :  17194\n",
      "Total number of posts :  20100\n"
     ]
    }
   ],
   "source": [
    "#Creating three empty lists called ask_posts, show_posts, and other_posts\n",
    "ask_posts = []\n",
    "show_posts = []\n",
    "other_posts = []\n",
    "\n",
    "#Iterating over each row in hn\n",
    "for row in hn :\n",
    "    #Saved the title in which row to a variable named title\n",
    "    title = row[ 1 ]\n",
    "    #Append the row to ask_posts if the lowercase title begins with ask hn\n",
    "    if ( title.lower().startswith('ask hn') ) :\n",
    "        ask_posts.append( row )\n",
    "    #Append the row to show_posts if the lowercase title begins with show hn\n",
    "    elif ( title.lower().startswith('show hn') ) :\n",
    "        show_posts.append( row )\n",
    "    else:\n",
    "        other_posts.append( row )\n",
    "        \n",
    "#Checking the number of posts in ask_posts, show_posts, and other_posts\n",
    "num_ask_posts = len( ask_posts )\n",
    "num_show_posts = len( show_posts )\n",
    "num_other_posts = len( other_posts )\n",
    "total_num_posts = num_ask_posts + num_show_posts + num_other_posts\n",
    "\n",
    "#Print the number of posts of each list\n",
    "print(\"Number of Ask HN's posts : \", num_ask_posts)\n",
    "print(\"Number of Show HN's posts : \", num_show_posts)\n",
    "print(\"Number of other posts : \", num_other_posts)\n",
    "print(\"Total number of posts : \", total_num_posts)\n"
   ]
  },
  {
   "cell_type": "markdown",
   "metadata": {},
   "source": [
    "At a matter of facts, **1744** posts are about specific questions, while **1162** posts shared a project, a product, or something interesting to the Hack News community.\n",
    "\n",
    "The total number of posts(ask posts, show posts, and other posts) is **20100**, which is pretty much almost equal to the number of posts we have fetched from Hack News website for our analysis.\n",
    "\n",
    "Afterwards, let's compute the average number of comments for both `Ask HN` and `show HN` posts.\n",
    "\n",
    "## 3. Calculating the Average Number of Comments for Ask HN and Show HN Posts.\n",
    "\n",
    "The average number of comments for `Ask HN` and `Show HN` will be calculated as follow:\n",
    "\n",
    "* Firstly, we compute the total number of comments in ask posts by iterating over the ask posts list.\n",
    "* Then, we calculate the average number of comments on ask posts by dividing the total number of comments by the number of ask posts.\n",
    "* Finally, we print the average ask comments.\n",
    "\n",
    "The same process will be repeated on the show posts."
   ]
  },
  {
   "cell_type": "code",
   "execution_count": 6,
   "metadata": {
    "collapsed": false
   },
   "outputs": [
    {
     "name": "stdout",
     "output_type": "stream",
     "text": [
      "Ask HN posts have 14 comments on average\n"
     ]
    }
   ],
   "source": [
    "#Set the total number of comments in ask posts to 0\n",
    "total_ask_comments = 0\n",
    "\n",
    "#iterating over the ask posts list\n",
    "for row in ask_posts :\n",
    "    #Saved the number of comments of each post to a variable\n",
    "    num_comments = int ( row[ 4 ] )\n",
    "    #Add the number of comments to total_ask_comments\n",
    "    total_ask_comments += num_comments\n",
    "    \n",
    "#Computing the average number of comments on ask posts\n",
    "avg_ask_comments = total_ask_comments / num_ask_posts\n",
    "\n",
    "avg_ask_format = \"Ask HN posts have {avg} comments on average\".format(avg= round( avg_ask_comments ))\n",
    "\n",
    "#print the average \n",
    "print( avg_ask_format )"
   ]
  },
  {
   "cell_type": "code",
   "execution_count": 7,
   "metadata": {
    "collapsed": false,
    "scrolled": true
   },
   "outputs": [
    {
     "name": "stdout",
     "output_type": "stream",
     "text": [
      "Show HN posts have 10 comments on average\n"
     ]
    }
   ],
   "source": [
    "#Set the total number of comments in show posts to 0\n",
    "total_show_comments = 0\n",
    "\n",
    "#iterating over the ask posts list\n",
    "for row in show_posts :\n",
    "    #Saved the number of comments of each post to a variable\n",
    "    num_comments = int ( row[ 4 ] )\n",
    "    #Add the number of comments to total_ask_comments\n",
    "    total_show_comments += num_comments\n",
    "    \n",
    "#Computing the average number of comments on ask posts\n",
    "avg_show_comments = total_show_comments / num_show_posts\n",
    "\n",
    "avg_show_format = \"Show HN posts have {avg} comments on average\".format(avg= round( avg_show_comments ))\n",
    "\n",
    "#print the average \n",
    "print( avg_show_format )"
   ]
  },
  {
   "cell_type": "markdown",
   "metadata": {},
   "source": [
    "Ask HN( **14** comments) has more average comments than show HN ( **10** comments) posts. Actually, users keen on employement in Ask HN questions. The most interesting Ask stories has submitted by the author  `whoishiring` both on the 01 of September and on the 01 of August 2016. Similarly, `whoishiring`'s posts acquired a lot of points. We can notice that in the `num_points` column in the data set.  \n",
    "\n"
   ]
  },
  {
   "cell_type": "code",
   "execution_count": 8,
   "metadata": {
    "collapsed": false
   },
   "outputs": [
    {
     "name": "stdout",
     "output_type": "stream",
     "text": [
      "['id', 'title', 'url', 'num_points', 'num_comments', 'author', 'created_at'] \n",
      "\n",
      "['11814830', 'Ask HN: Who wants to be hired? (June 2016)', '', '137', '250', 'whoishiring', '6/1/2016 15:01'] \n",
      "\n",
      "['10655741', 'Ask HN: Freelancer? Seeking freelancer? (December 2015)', '', '41', '93', 'whoishiring', '12/1/2015 15:00'] \n",
      "\n",
      "['12405698', 'Ask HN: Who is hiring? (September 2016)', '', '521', '910', 'whoishiring', '9/1/2016 15:00'] \n",
      "\n",
      "['12202867', 'Ask HN: Who wants to be hired? (August 2016)', '', '22', '118', 'whoishiring', '8/1/2016 15:01'] \n",
      "\n",
      "['12405699', 'Ask HN: Freelancer? Seeking freelancer? (September 2016)', '', '72', '85', 'whoishiring', '9/1/2016 15:00'] \n",
      "\n",
      "['12202865', 'Ask HN: Who is hiring? (August 2016)', '', '534', '947', 'whoishiring', '8/1/2016 15:01'] \n",
      "\n",
      "['11405241', 'Ask HN: Who wants to be hired? (April 2016)', '', '154', '283', 'whoishiring', '4/1/2016 15:01'] \n",
      "\n",
      "['10492087', 'Ask HN: Freelancer? Seeking freelancer? (November 2015)', '', '117', '158', 'whoishiring', '11/2/2015 15:01'] \n",
      "\n",
      "['11202956', 'Ask HN: Who wants to be hired? (March 2016)', '', '84', '202', 'whoishiring', '3/1/2016 15:00'] \n",
      "\n"
     ]
    }
   ],
   "source": [
    "#First, display the headers\n",
    "print( headers, \"\\n\")\n",
    "#print \"whoishiring\"  ask post\n",
    "for row in ask_posts :\n",
    "    author = row[ 5 ]\n",
    "    if( \"whoishiring\" in author ) :\n",
    "        print( row, \"\\n\" )"
   ]
  },
  {
   "cell_type": "markdown",
   "metadata": {},
   "source": [
    "On the other hand, users keen on Information Technology on Show HN posts, including apps and database. The author `wscott` shared the post with the greatest number of comments (306) in this category. "
   ]
  },
  {
   "cell_type": "code",
   "execution_count": 9,
   "metadata": {
    "collapsed": false
   },
   "outputs": [
    {
     "name": "stdout",
     "output_type": "stream",
     "text": [
      "['id', 'title', 'url', 'num_points', 'num_comments', 'author', 'created_at'] \n",
      "\n",
      "['11667494', 'Show HN: BitKeeper  Enterprise-ready version control, now open-source', 'https://www.bitkeeper.org/', '384', '306', 'wscott', '5/10/2016 14:39'] \n",
      "\n"
     ]
    }
   ],
   "source": [
    "#First, display the headers\n",
    "print( headers, \"\\n\")\n",
    "#print \"whoishiring\"  ask post\n",
    "for row in show_posts :\n",
    "    author = row[ 5 ]\n",
    "    if( \"wscott\" in author ) :\n",
    "        print( row, \"\\n\" )"
   ]
  },
  {
   "cell_type": "markdown",
   "metadata": {},
   "source": [
    "## 4. Finding the Amount of Ask Posts and Comments by Hour Created.\n",
    "\n",
    "Since `Ask HN` posts are more likely to receive comments, we'll focus our remaining analysis just on these posts.\n",
    "\n",
    "The next step of our investigation is to compute the amout of ask posts created in each hour of the day, along with the number of comments received."
   ]
  },
  {
   "cell_type": "code",
   "execution_count": 18,
   "metadata": {
    "collapsed": false
   },
   "outputs": [
    {
     "name": "stdout",
     "output_type": "stream",
     "text": [
      "Amount of ask posts by hour : \n",
      " {'20': 80, '02': 58, '05': 46, '12': 73, '10': 59, '00': 55, '15': 116, '19': 110, '14': 107, '23': 68, '04': 47, '21': 109, '01': 60, '18': 109, '16': 108, '07': 34, '09': 45, '08': 48, '11': 58, '17': 100, '03': 54, '22': 71, '06': 44, '13': 85}\n",
      "\n",
      "The corresponding number of  comments by hour : \n",
      " {'20': 1721, '02': 1379, '05': 436, '12': 684, '10': 793, '00': 438, '15': 4477, '19': 1186, '14': 1414, '23': 543, '04': 335, '21': 1742, '01': 651, '18': 1438, '16': 1798, '07': 266, '09': 246, '08': 488, '11': 640, '17': 1146, '03': 421, '22': 478, '06': 397, '13': 1225}\n"
     ]
    }
   ],
   "source": [
    "#Importing datetime module as dt\n",
    "import datetime as dt\n",
    "\n",
    "'''\n",
    "module : datetime\n",
    "alias : dt\n",
    "\n",
    "'''\n",
    "#Defining an empty list \n",
    "result_list = []\n",
    "#Looping over ask_posts\n",
    "for row in ask_posts :\n",
    "    post_date = row[ 6 ]\n",
    "    num_comments = int( row[ 4 ] )\n",
    "    #Append the two variable above to result_list\n",
    "    result_list.append( [ post_date, num_comments ] )\n",
    "    \n",
    "#Creating two empty dictionary \n",
    "counts_by_hour = {}\n",
    "comments_by_hour = {}\n",
    "\n",
    "#Iterating over result_list \n",
    "for row in result_list :\n",
    "    #Extract the hour from the date\n",
    "    date = row[ 0 ]\n",
    "    num_comments = row[ 1 ]\n",
    "    #Parse the date and create a datetime\n",
    "    date = dt.datetime.strptime( date, \"%m/%d/%Y %H:%M\")\n",
    "    \n",
    "    #Select just the hour from datetime object\n",
    "    hour = date.strftime(\"%H\")\n",
    "    #print( hour )\n",
    "    #append the variable hour as a key in counts_by_hour and comments_by_hour if it doesn't exist\n",
    "    if( hour not in counts_by_hour ) :\n",
    "        counts_by_hour[ hour ] = 1\n",
    "        comments_by_hour[ hour ] = 1\n",
    "    #Increment the value of hour if it is already existed in counts_by_hour    \n",
    "    elif( hour in counts_by_hour ) :\n",
    "        counts_by_hour[ hour ] += 1\n",
    "        comments_by_hour[ hour ] += num_comments\n",
    "        \n",
    "#amount of ask posts per hour\n",
    "print( \"Amount of ask posts by hour : \\n\" ,counts_by_hour )\n",
    "#amount of ask comments per hour\n",
    "print( \"\\nThe corresponding number of  comments by hour : \\n\" ,comments_by_hour )\n",
    "    \n"
   ]
  },
  {
   "cell_type": "markdown",
   "metadata": {},
   "source": [
    "Here we are! We can now perceive the number of ask posts and comments by hour created."
   ]
  },
  {
   "cell_type": "markdown",
   "metadata": {
    "collapsed": true
   },
   "source": [
    "## 5. Calculating the Average Number of Comments for Ask HN Posts per Hour.\n",
    "\n",
    "Since we hold the total amout of ask post and the corresponding number of comments by hour, it's easily to compute the average number of Comments for Ask HN Posts per hour. \n",
    "\n",
    "In order to the perform this task, we'll define a new lists of lists in which th first element is the hour and the second element is the average number of comments per post.\n",
    "```\n",
    "Example : \n",
    "\n",
    "avg_by_hour = [\n",
    "                [hour_1, num_comments / num_posts]\n",
    "                [hour_2, num_comments / num_posts]\n",
    "                etc...\n",
    "              ]\n",
    "```"
   ]
  },
  {
   "cell_type": "code",
   "execution_count": 19,
   "metadata": {
    "collapsed": false
   },
   "outputs": [
    {
     "name": "stdout",
     "output_type": "stream",
     "text": [
      "[['00', 7.963636363636364], ['01', 10.85], ['02', 23.775862068965516], ['03', 7.796296296296297], ['04', 7.127659574468085], ['05', 9.478260869565217], ['06', 9.022727272727273], ['07', 7.823529411764706], ['08', 10.166666666666666], ['09', 5.466666666666667], ['10', 13.440677966101696], ['11', 11.03448275862069], ['12', 9.36986301369863], ['13', 14.411764705882353], ['14', 13.214953271028037], ['15', 38.5948275862069], ['16', 16.64814814814815], ['17', 11.46], ['18', 13.192660550458715], ['19', 10.781818181818181], ['20', 21.5125], ['21', 15.98165137614679], ['22', 6.732394366197183], ['23', 7.985294117647059]]\n"
     ]
    }
   ],
   "source": [
    "#Defining an emply list\n",
    "avg_by_hour = []\n",
    "\n",
    "#Looping through comments_by_hour's dictionary\n",
    "for hour, num_comments in comments_by_hour.items() :\n",
    "    #If hour is a key in counts_by_hour dictionary, compute the average\n",
    "    if( hour in counts_by_hour ) :\n",
    "        avg_comments_hour = num_comments / counts_by_hour[ hour ]\n",
    "    #Append the average to the list avg_by_hour\n",
    "    avg_by_hour.append( [ hour, avg_comments_hour ] )\n",
    "    \n",
    "#print the values from avg_by hour's list\n",
    "print( sorted( avg_by_hour ) )"
   ]
  },
  {
   "cell_type": "markdown",
   "metadata": {},
   "source": [
    "Despite the fact that we now have the results we wanted, this format is not inadequate to identify the hours with the highest values. Hence, we must sort the list of lists and print the five highest values in an easy-to-read format.\n",
    "\n",
    "Firstly, let's reverse the order of the average comments by hours by swapping the columns in `avg_by_hour` data set."
   ]
  },
  {
   "cell_type": "code",
   "execution_count": 23,
   "metadata": {
    "collapsed": false
   },
   "outputs": [
    {
     "name": "stdout",
     "output_type": "stream",
     "text": [
      "[[21.5125, '20'], [23.775862068965516, '02'], [9.478260869565217, '05'], [9.36986301369863, '12'], [13.440677966101696, '10'], [7.963636363636364, '00'], [38.5948275862069, '15'], [10.781818181818181, '19'], [13.214953271028037, '14'], [7.985294117647059, '23'], [7.127659574468085, '04'], [15.98165137614679, '21'], [10.85, '01'], [13.192660550458715, '18'], [16.64814814814815, '16'], [7.823529411764706, '07'], [5.466666666666667, '09'], [10.166666666666666, '08'], [11.03448275862069, '11'], [11.46, '17'], [7.796296296296297, '03'], [6.732394366197183, '22'], [9.022727272727273, '06'], [14.411764705882353, '13']]\n"
     ]
    }
   ],
   "source": [
    "# Creating an empty list\n",
    "swap_avg_by_hour = []\n",
    "#Looping over the avg_by_hour \n",
    "for a_list in avg_by_hour :\n",
    "    #Reverse the order of a_list and append to swap_avg_by_hour\n",
    "    swap_avg_by_hour.append( [ a_list[1], a_list[0] ]  )\n",
    "    \n",
    "#Print swap_avg_by_hour\n",
    "print( swap_avg_by_hour )"
   ]
  },
  {
   "cell_type": "markdown",
   "metadata": {},
   "source": [
    "Then, we utilize the `sorted()` function and sort `swap_avg_by_hour` in descending order."
   ]
  },
  {
   "cell_type": "code",
   "execution_count": 41,
   "metadata": {
    "collapsed": false
   },
   "outputs": [
    {
     "name": "stdout",
     "output_type": "stream",
     "text": [
      "15:00 :  38.59 average comments per post\n",
      "02:00 :  23.78 average comments per post\n",
      "20:00 :  21.51 average comments per post\n",
      "16:00 :  16.65 average comments per post\n",
      "21:00 :  15.98 average comments per post\n"
     ]
    }
   ],
   "source": [
    "#sorting the swap_avg_by_hour from the highest to the lowest number of comments\n",
    "sorted_swap = sorted( swap_avg_by_hour, reverse = True )\n",
    "\n",
    "#Looping through the five first list of sorted_swap\n",
    "template =\"{} : {} average comments per post.\"\n",
    "for a_list in sorted_swap[:5] :\n",
    "    hour = a_list[1]\n",
    "    avg_comments = a_list[ 0 ]\n",
    "    time = dt.datetime.strptime( hour, \"%H\" )\n",
    "    #select a time format\n",
    "    time = time.strftime(\"%H:%M\")\n",
    "    \n",
    "    #print the time and the average in a good format\n",
    "    template = \"{a_time} : {avg: .2f} average comments per post\".format( a_time = time, avg = avg_comments )\n",
    "    print(template)"
   ]
  },
  {
   "cell_type": "markdown",
   "metadata": {},
   "source": [
    "As a result, the higher chance of receiving comments from **Cameroon** is probably at 3 pm. A reason to explain this might be rely on the fact that it is the time break of both students and employers in that country."
   ]
  },
  {
   "cell_type": "markdown",
   "metadata": {},
   "source": [
    "## Conclusion\n",
    "\n",
    "During our journey in Hackers News Posts world, we have explored the user stories whose are entitled  Ask HN or Show HN. We have discovered in ask posts that users keen on employement where as in show posts, they are more interested in Information Technology.\n",
    "\n",
    "If a Cameroonian submit an ask post to the Hacker News community, it is probably that he or she will receive the highest number a post at 3 pm each day."
   ]
  }
 ],
 "metadata": {
  "kernelspec": {
   "display_name": "Python 3",
   "language": "python",
   "name": "python3"
  },
  "language_info": {
   "codemirror_mode": {
    "name": "ipython",
    "version": 3
   },
   "file_extension": ".py",
   "mimetype": "text/x-python",
   "name": "python",
   "nbconvert_exporter": "python",
   "pygments_lexer": "ipython3",
   "version": "3.4.3"
  }
 },
 "nbformat": 4,
 "nbformat_minor": 2
}
