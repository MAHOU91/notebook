{
 "cells": [
  {
   "cell_type": "markdown",
   "metadata": {},
   "source": [
    "# Profitable App Profiles for the App Store and Google Play Markets\n",
    "\n",
    "\n",
    "Our goal for this project is to analyze data to help our developers understand what type of apps are likely to attract more users. \n",
    "\n",
    "As a data analyst, I  work for MBOA company that builds Android and iOS mobiles apps. We make our apps available on Google Play and the App Store.\n",
    "\n",
    "We only build apps that are free to download and install, and we earn only from in-app ads.\n",
    "\n",
    "## Opening and Exploring the Data\n",
    "\n",
    "On September 2018, there were approximately 2 million iOS apps available on the App Store, and 2.1 million Android apps on Google Play.\n",
    "\n",
    "Collecting data for over 4 million apps requires a significant amount of time and money, so we'll try to analyze a sample of the data instead. To avoid spending resources on collection new data ourselves, we should first try to see if we can find any relevant existing data at no cost. Luckily, these are two data sets that seem suitable for our purpose:\n",
    "\n",
    "* [ A data set ][1] containing data about approximately ten thousand Android apps from Google Paly; the data was collected in August 2018. You can dowload the data set directly from [ this link ][2]\n",
    "* [ A data set ][3] containing data about approximately seven iOS apps from the App Store; the data was collected in july 2017. You can download the data set directly from [ this link ][4] \n",
    ")\n",
    "[1]: https://www.kaggle.com/lava18/google-play-store-apps\n",
    "[2]: https://app.dataquest.io/jupyter/edit/notebook/googleplaystore.csv\n",
    "[3]: https://www.kaggle.com/ramamet4/app-store-apple-data-set-10k-apps\n",
    "[4]: https://app.dataquest.io/jupyter/edit/notebook/AppleStore.csv \n",
    "Let's start by opening the two data sets and continue with exploring the data."
   ]
  },
  {
   "cell_type": "code",
   "execution_count": 74,
   "metadata": {
    "collapsed": false,
    "jupyter": {
     "outputs_hidden": false
    }
   },
   "outputs": [],
   "source": [
    "#Opening AppleStore.csv and googleplaystore.csv and saved both as lists of lists\n",
    "open_file_ios = open( \"../my_datasets/AppleStore.csv\", encoding = \"UTF-8\" )\n",
    "open_file_google_play = open( \"../my_datasets/googleplaystore.csv\", encoding = \"UTF-8\" )\n",
    "from csv import reader\n",
    "#Store the values of AppleStore.csv in a variable named ios\n",
    "readed_file_ios = reader(open_file_ios)\n",
    "ios = list(readed_file_ios)\n",
    "ios_header = ios[0]\n",
    "ios = ios[1:]\n",
    "\n",
    "#Store the values of googleplaystore.csv in a variable named google_play\n",
    "readed_file_google_play = reader(open_file_google_play )\n",
    "google_play = list(readed_file_google_play)\n",
    "google_play_header = google_play[0]\n",
    "google_play = google_play[1:]"
   ]
  },
  {
   "cell_type": "markdown",
   "metadata": {},
   "source": [
    "To make it easier to explore the two data sets, we'll first write a function named **explore_data()** that we can use repeatedly to explore rows in a more readable way. We'll also add a parameter for our function to display the number of rows and columns for any data set."
   ]
  },
  {
   "cell_type": "code",
   "execution_count": 75,
   "metadata": {
    "collapsed": false,
    "jupyter": {
     "outputs_hidden": false
    }
   },
   "outputs": [],
   "source": [
    "#Explore a data set using explore() function\n",
    "def explore_data( dataset, start, end, rows_and_columns = False ) :\n",
    "    dataset_slice = dataset[start:end]\n",
    "    for row in dataset_slice :\n",
    "        print(row)\n",
    "        #adds a new empty line after each row\n",
    "        print(\"\\n\")\n",
    "        \n",
    "    if rows_and_columns :\n",
    "        print( \"Number of rows: \", len( dataset ) )\n",
    "        print( \"Number of columns: \", len(dataset[0]) )\n"
   ]
  },
  {
   "cell_type": "code",
   "execution_count": 76,
   "metadata": {
    "collapsed": false,
    "jupyter": {
     "outputs_hidden": false
    }
   },
   "outputs": [
    {
     "name": "stdout",
     "output_type": "stream",
     "text": [
      "['id', 'track_name', 'size_bytes', 'currency', 'price', 'rating_count_tot', 'rating_count_ver', 'user_rating', 'user_rating_ver', 'ver', 'cont_rating', 'prime_genre', 'sup_devices.num', 'ipadSc_urls.num', 'lang.num', 'vpp_lic']\n",
      "\n",
      "\n",
      "['284882215', 'Facebook', '389879808', 'USD', '0.0', '2974676', '212', '3.5', '3.5', '95.0', '4+', 'Social Networking', '37', '1', '29', '1']\n",
      "\n",
      "\n",
      "['389801252', 'Instagram', '113954816', 'USD', '0.0', '2161558', '1289', '4.5', '4.0', '10.23', '12+', 'Photo & Video', '37', '0', '29', '1']\n",
      "\n",
      "\n",
      "Number of rows:  7197\n",
      "Number of columns:  16\n"
     ]
    }
   ],
   "source": [
    "#Print iOS header\n",
    "print( ios_header )\n",
    "print( \"\\n\" )\n",
    "#Explore Apple Store datasets using the explore_data() function\n",
    "explore_data( ios, start = 0, end = 2, rows_and_columns = True )"
   ]
  },
  {
   "cell_type": "markdown",
   "metadata": {},
   "source": [
    "As showcased above, the AppleStore data set has 7197 apps and 16 columns. At a glance, The columns that might essential for the purpose of our analysis are: 'trackname', 'Currency', 'price', 'rating_count_tot', 'rating_count_ver' and 'prime_genre'.\n",
    "\n",
    "Let's perform the same action on Google Play data set."
   ]
  },
  {
   "cell_type": "code",
   "execution_count": 77,
   "metadata": {
    "collapsed": false,
    "jupyter": {
     "outputs_hidden": false
    },
    "scrolled": true
   },
   "outputs": [
    {
     "name": "stdout",
     "output_type": "stream",
     "text": [
      "['App', 'Category', 'Rating', 'Reviews', 'Size', 'Installs', 'Type', 'Price', 'Content Rating', 'Genres', 'Last Updated', 'Current Ver', 'Android Ver']\n",
      "\n",
      "\n",
      "['Photo Editor & Candy Camera & Grid & ScrapBook', 'ART_AND_DESIGN', '4.1', '159', '19M', '10,000+', 'Free', '0', 'Everyone', 'Art & Design', 'January 7, 2018', '1.0.0', '4.0.3 and up']\n",
      "\n",
      "\n",
      "['Coloring book moana', 'ART_AND_DESIGN', '3.9', '967', '14M', '500,000+', 'Free', '0', 'Everyone', 'Art & Design;Pretend Play', 'January 15, 2018', '2.0.0', '4.0.3 and up']\n",
      "\n",
      "\n",
      "Number of rows:  10841\n",
      "Number of columns:  13\n"
     ]
    }
   ],
   "source": [
    "#Print iOS header\n",
    "print( google_play_header )\n",
    "print( \"\\n\" )\n",
    "#Explore Google Play dataset using the explore_data() function\n",
    "explore_data( google_play, start = 0, end = 2, rows_and_columns = True )"
   ]
  },
  {
   "cell_type": "markdown",
   "metadata": {},
   "source": [
    "Google Play data set contained 10842 apps. The main columns that will be kept to analyze the data are: 'App', 'Category', 'Reviews', 'Installs', ' 'Rating', 'Price', 'Content Rating', and 'Genres'. A full description of each column name can be found in the data set [ documentation ][1].\n",
    "\n",
    "[1]: https://www.kaggle.com/ramamet4/app-store-apple-data-set-10k-apps/home "
   ]
  },
  {
   "cell_type": "markdown",
   "metadata": {},
   "source": [
    "## Deleting Wrong Data\n",
    "\n",
    "Actually, we have opened the two data sets and performed a brief exploration of the data, we must make sure the data is accurate before begining our analyis, otherwise the results of our analysis will be wrong. By explaining in more simple, we need to:\n",
    "\n",
    "* Detect inaccurate data, and correct or remove it.\n",
    "* Detect duplicate data, and remove the duplicates.\n",
    "\n",
    "As our company only build apps that are *free* to download and install, also directed toward an *English-speaking* audience, It is a necessity to :\n",
    "\n",
    "* Remove non-English apps.\n",
    "* Remove apps that aren't free.\n",
    "\n",
    "The Google Play data set has a dedicated [ discussion section ][1], and we can see that [ one of the discussions ][2] describes an error for a certain row.\n",
    "\n",
    "[1]: https://www.kaggle.com/lava18/google-play-store-apps/discussion\n",
    "[2]: https://www.kaggle.com/lava18/google-play-store-apps/discussion/66015)\n",
    "\n",
    "Let's print that row and compare it against the header and another rows that are correct."
   ]
  },
  {
   "cell_type": "code",
   "execution_count": 78,
   "metadata": {
    "collapsed": false,
    "jupyter": {
     "outputs_hidden": false
    }
   },
   "outputs": [
    {
     "name": "stdout",
     "output_type": "stream",
     "text": [
      "Google Play data set. \n",
      "\n",
      "An row containing an error: \n",
      "\n",
      "['Life Made WI-Fi Touchscreen Photo Frame', '1.9', '19', '3.0M', '1,000+', 'Free', '0', 'Everyone', '', 'February 11, 2018', '1.0.19', '4.0 and up'] \n",
      "\n",
      "The data set Header: \n",
      "\n",
      "['App', 'Category', 'Rating', 'Reviews', 'Size', 'Installs', 'Type', 'Price', 'Content Rating', 'Genres', 'Last Updated', 'Current Ver', 'Android Ver'] \n",
      "\n",
      "An row containing without an error: \n",
      "\n",
      "['Photo Editor & Candy Camera & Grid & ScrapBook', 'ART_AND_DESIGN', '4.1', '159', '19M', '10,000+', 'Free', '0', 'Everyone', 'Art & Design', 'January 7, 2018', '1.0.0', '4.0.3 and up'] \n",
      "\n"
     ]
    }
   ],
   "source": [
    "#Print the incorrect row in the Google Play data set\n",
    "print( \"Google Play data set. \\n\" )\n",
    "#Print a row with an error\n",
    "print( \"An row containing an error: \\n\" )\n",
    "print( str( google_play[10472] ), \"\\n\" )\n",
    "#Print Google Play data set header\n",
    "print( \"The data set Header: \\n\" )\n",
    "print( str( google_play_header), \"\\n\" )\n",
    "#Print the first correct row in the data set\n",
    "print( \"An row containing without an error: \\n\" )\n",
    "print( str( google_play[0] ), \"\\n\" )\n"
   ]
  },
  {
   "cell_type": "markdown",
   "metadata": {},
   "source": [
    "The row 10472 corresponds to the app 'Life Made Wi-Fi Touchscreen Photo Frame', and its rating is 19. Certainly, this is an error because the maximum rating for a Google Play is 5. Therefore we will delete that row. "
   ]
  },
  {
   "cell_type": "code",
   "execution_count": 79,
   "metadata": {
    "collapsed": false,
    "jupyter": {
     "outputs_hidden": false
    }
   },
   "outputs": [
    {
     "name": "stdout",
     "output_type": "stream",
     "text": [
      "Number of rows in Google Play data set before deleting index row 10472: 10841\n",
      "Number of rows in Google Play data set after deleting index row 10472: 10840\n"
     ]
    }
   ],
   "source": [
    "#Number of row in Google Play data set before deleting index row 10472\n",
    "print( \"Number of rows in Google Play data set before deleting index row 10472:\", len( google_play ) )\n",
    "#Deleting the index row 10472\n",
    "del google_play[ 10472 ]\n",
    "\n",
    "#Number of row in Google Play data set after deleting index row 10472\n",
    "print( \"Number of rows in Google Play data set after deleting index row 10472:\", len( google_play ) )"
   ]
  },
  {
   "cell_type": "markdown",
   "metadata": {},
   "source": [
    "## Removing Duplicate Entries.\n",
    "\n",
    "### Part One\n",
    "\n",
    "In the last step above, we started the data cleaning process and deleted the row number 10472 with incorrect data from the Google Play data set. if we scroll down the Google Play data set long enough, we will notice some apps have duplicate entries.\n",
    "\n",
    "For instance, Instagram has four entries:"
   ]
  },
  {
   "cell_type": "code",
   "execution_count": 80,
   "metadata": {
    "collapsed": false,
    "jupyter": {
     "outputs_hidden": false
    }
   },
   "outputs": [
    {
     "name": "stdout",
     "output_type": "stream",
     "text": [
      "['Instagram', 'SOCIAL', '4.5', '66577313', 'Varies with device', '1,000,000,000+', 'Free', '0', 'Teen', 'Social', 'July 31, 2018', 'Varies with device', 'Varies with device']\n",
      "['Instagram', 'SOCIAL', '4.5', '66577446', 'Varies with device', '1,000,000,000+', 'Free', '0', 'Teen', 'Social', 'July 31, 2018', 'Varies with device', 'Varies with device']\n",
      "['Instagram', 'SOCIAL', '4.5', '66577313', 'Varies with device', '1,000,000,000+', 'Free', '0', 'Teen', 'Social', 'July 31, 2018', 'Varies with device', 'Varies with device']\n",
      "['Instagram', 'SOCIAL', '4.5', '66509917', 'Varies with device', '1,000,000,000+', 'Free', '0', 'Teen', 'Social', 'July 31, 2018', 'Varies with device', 'Varies with device']\n"
     ]
    }
   ],
   "source": [
    " for app in google_play :\n",
    "        name = app[0]\n",
    "        if name == \"Instagram\" :\n",
    "            #Print all the values stored in app7\n",
    "             print( app )"
   ]
  },
  {
   "cell_type": "markdown",
   "metadata": {},
   "source": [
    "Let's compute the total number of cases where an app occurs more than once in the Google Play data set:"
   ]
  },
  {
   "cell_type": "code",
   "execution_count": 81,
   "metadata": {
    "collapsed": false,
    "jupyter": {
     "outputs_hidden": false
    }
   },
   "outputs": [
    {
     "name": "stdout",
     "output_type": "stream",
     "text": [
      "There are 1181 duplicate apps in the Google Play dataset.\n",
      "\n"
     ]
    }
   ],
   "source": [
    "duplicate_apps = []\n",
    "unique_apps = []\n",
    "\n",
    "#Go through the data set to find out each duplicate entries\n",
    "for app in google_play :\n",
    "    name = app[0]\n",
    "    if name in unique_apps :\n",
    "        duplicate_apps.append(name)\n",
    "    else:\n",
    "        unique_apps.append(name)\n",
    "        \n",
    "#Print the numbr of duplicate apps in Google Play dataset\n",
    "print( \"There are \" + str( len(duplicate_apps ) ) + \" duplicate apps in the Google Play dataset.\\n\" )\n"
   ]
  },
  {
   "cell_type": "markdown",
   "metadata": {},
   "source": [
    "After our computation, We have found that there are **1181** cases where an app occurs more than once in the Google Play data set.\n",
    "\n",
    "Now, we need to delete all duplicate entries in the data set. If you examine the rows we printed for the instagram app, the main difference happens on the fourth position of each row, which corresponds to the number of reviews. Clearly, we can understand that the data was collected at different times.\n",
    "\n",
    "We are going to use this information to build our criterion for removing the duplicates. The higher the number of reviews, the more recent the data should be. Rather than removing duplicates entries randomly, we'll only keep the row with the highest number of reviews and remove the other entries for any given app.\n",
    "\n",
    "We'll perform our criterion in the steps as follows:\n",
    "\n",
    "* Create a dictionary where each dictionary key is an app name, and its corresponding dictionary value is the highest number of reviews of that app.\n",
    "* Use the dictionary to create a new data set, which will have only one entrie per app( and we only select the apps with the highest number of reviews.\n",
    "\n",
    "### Part Two\n",
    "\n",
    "Let's start by building a dictionary where each key is a unique app name and the corresponding dictionary value is the highest number of reviews of that app."
   ]
  },
  {
   "cell_type": "code",
   "execution_count": 82,
   "metadata": {
    "collapsed": false,
    "jupyter": {
     "outputs_hidden": false
    }
   },
   "outputs": [],
   "source": [
    "#Building the Google Play dictionary\n",
    "reviews_max = {}\n",
    "\n",
    "#Looping through the Google Play data set\n",
    "for app in google_play :\n",
    "    #Assigning the app name to a variable named name\n",
    "    name = app[ 0 ]\n",
    "    #Convert the app reviews to float and assigning it to a variable named n_reviews\n",
    "    n_reviews = float( app[ 3 ] )\n",
    "    #Update the number of the reviews for that app in the reviews max as long as name \n",
    "    # already exists as a key in the reviews_max dictionary and reviews_max[name] < n_reviews\n",
    "    if ( name in reviews_max ) and ( reviews_max[ name ] < n_reviews ) :\n",
    "        reviews_max[ name ] = n_reviews\n",
    "    #If name is not in the reviews_max dictionary as a key, create a new entry\n",
    "    elif ( name not in reviews_max ) :\n",
    "        reviews_max[ name ] = n_reviews\n",
    "\n",
    "\n",
    "        "
   ]
  },
  {
   "cell_type": "markdown",
   "metadata": {},
   "source": [
    "At the previous code cell, we found that The Google Play data set has 1181 duplicate entries. Basically, the length of our dictionary should be equal to the difference between the length of the Google Play data set and 1181."
   ]
  },
  {
   "cell_type": "code",
   "execution_count": 83,
   "metadata": {
    "collapsed": false,
    "jupyter": {
     "outputs_hidden": false
    }
   },
   "outputs": [
    {
     "name": "stdout",
     "output_type": "stream",
     "text": [
      "Expected Length of the dictionary : 9659\n",
      "Actual Length of the dictionary : 9659\n"
     ]
    }
   ],
   "source": [
    "#Print the length of the dictionary in the expectation that its value will be 9659\n",
    "\n",
    "print( \"Expected Length of the dictionary : \" + str( len( google_play ) - 1181 ) )\n",
    "print( \"Actual Length of the dictionary : \" + str( len( reviews_max ) ) )"
   ]
  },
  {
   "cell_type": "markdown",
   "metadata": {},
   "source": [
    "Now, let's use the reviews_max dictionary to remove the duplicates. For the duplicates cases,we only keep the entries with the highest number of reviews. In the code cell below:\n",
    "\n",
    "* We start by initializing two empty lists, google_play_clean and already_added\n",
    "* We loop through the Google Play data set, and for every iteration:\n",
    "    * We isolate the name of the app and the number of reviews.\n",
    "    * We add the current row (app) to the google_play_clean list, and the app name (name) to already_added list if :\n",
    "        * The number of reviews of the current app matches the number of reviews of that app as described in the reviews_max dictionary, and\n",
    "        * The name of the app is not already in the already_added list. We need to add this supplementary condition to account for those cases where the highest number of reviews of a duplicate app is the same for more than one entry ( for example, the Box app has three entries, and the number of reviews is the same). If we just check for reviews_max[ name ] == n_reviews. We'll still end up with duplicate entries for some apps.  "
   ]
  },
  {
   "cell_type": "code",
   "execution_count": 88,
   "metadata": {
    "collapsed": false,
    "jupyter": {
     "outputs_hidden": false
    }
   },
   "outputs": [
    {
     "name": "stdout",
     "output_type": "stream",
     "text": [
      "Expected Length of The Google play data set clean : 9659\n",
      "Actual Length of The Google play data set clean : 9659\n"
     ]
    }
   ],
   "source": [
    "#Initializing two empty list\n",
    "google_play_clean = []\n",
    "already_added = []\n",
    "\n",
    "#Looping through the Google Play data set\n",
    "for app in google_play :\n",
    "    #isolating the app name and its number of reviews\n",
    "    name = app[ 0 ]\n",
    "    n_reviews = float( app[ 3 ] )\n",
    "    #Add the current app to google_play_clean if its number of reviews is in the reviews_max dictionary and\n",
    "    #the name of the app is not already in the already_added\n",
    "    if ( reviews_max[ name ] == n_reviews ) and ( name not in already_added ) :\n",
    "        google_play_clean.append( app )\n",
    "        already_added.append( name )\n",
    "        \n",
    "#Exploring the google_play_clean to ensure enverything went as expected.\n",
    "#The length of thr data set should have 9659 rows\n",
    "\n",
    "print( \"Expected Length of The Google play data set clean : \" + str( len( reviews_max ) ) )\n",
    "print( \"Actual Length of The Google play data set clean : \" + str( len( google_play_clean ) ) )\n",
    "        "
   ]
  },
  {
   "cell_type": "markdown",
   "metadata": {},
   "source": [
    "So far so good. We have perfectly remove all the duplicates entries in the Google Play data set."
   ]
  },
  {
   "cell_type": "markdown",
   "metadata": {},
   "source": [
    "## Removing Non-English Apps.\n",
    "\n",
    "### Part One\n",
    "\n",
    "If we explore the data long enough, we'll find that both data sets have apps with names that suggest they are not directed toward an English-speaking audience.\n",
    " "
   ]
  },
  {
   "cell_type": "code",
   "execution_count": 89,
   "metadata": {},
   "outputs": [
    {
     "name": "stdout",
     "output_type": "stream",
     "text": [
      "爱奇艺PPS -《欢乐颂2》电视剧热播\n",
      "\n",
      "\n",
      "中国語 AQリスニング\n"
     ]
    }
   ],
   "source": [
    "print(ios[813][1])\n",
    "print(\"\\n\")\n",
    "print(google_play_clean[4412][0])"
   ]
  },
  {
   "cell_type": "markdown",
   "metadata": {},
   "source": [
    "We are not interested in keeping these apps, therefore we will remove them by deleting each app with a name containing a symbol that is not commonly used in English text. These symbols includes letters from the English alphabet, number composed of digits from 0 to 9, punctuation marks(., !, ?,;) and other symbols(+, *,/).\n",
    "\n",
    "All characters that are specific to English Text are encoded using ASCII( American Standard Code for Information Interchange) system.  Each ASCII symbol has a corresponding number in a range 0 to 127. Hence, we can build a function that detects whether a character belongs to the set of common English characters or not.\n",
    "\n",
    "We build this function below and use the *ord()* build-in function to fetch the corresponding number of each character in any app name."
   ]
  },
  {
   "cell_type": "code",
   "execution_count": 90,
   "metadata": {},
   "outputs": [],
   "source": [
    "#Writing a function that takes  string as parameter and returns False\n",
    "#if there's any character in the string that doesn't belong to the\n",
    "#set of common English characters, otherwise it returns True\n",
    "\n",
    "def is_english( string ) :\n",
    "    for character in string :\n",
    "        #checking if the character is in the range [0,127] using ord() build-in function\n",
    "        encode_number = ord( character )\n",
    "        #return False if encode_number > 127\n",
    "        if ( encode_number > 127 ) :\n",
    "            return False\n",
    "        \n",
    "    return True"
   ]
  },
  {
   "cell_type": "markdown",
   "metadata": {},
   "source": [
    "Let's try our new function above to check whether some app names are detected as English or non-English."
   ]
  },
  {
   "cell_type": "code",
   "execution_count": 91,
   "metadata": {},
   "outputs": [
    {
     "name": "stdout",
     "output_type": "stream",
     "text": [
      "Instagram is detected as English: True\n",
      "\n",
      "\n",
      "爱奇艺PPS -《欢乐颂2》电视剧热播 is detected as English: False\n",
      "\n",
      "\n",
      "Docs To Go™ Free Office Suite is detected as English: False\n",
      "\n",
      "\n",
      "Instachat 😜 is detected as English: False\n",
      "\n",
      "\n"
     ]
    }
   ],
   "source": [
    "app_names = [\"Instagram\", \n",
    "              \"爱奇艺PPS -《欢乐颂2》电视剧热播\", \n",
    "              \"Docs To Go™ Free Office Suite\",\n",
    "              \"Instachat 😜\"\n",
    "            ]\n",
    "#Looping through the app_names and print whether or not these app names are detected  as English\n",
    "for name in app_names :\n",
    "    print( str( name ) + \" is detected as English: \" + str( is_english( name) ))\n",
    "    print(\"\\n\")"
   ]
  },
  {
   "cell_type": "markdown",
   "metadata": {},
   "source": [
    "When we execute the function that detects non-English app names, we can found that the function couldn't correctly identify English app names that contain emojis and character like ™. This issue raised up because those characters fall outside the ASCII range [0, 127].\n",
    "\n",
    "To solve this issue, we will update the function **is_english()**, and minimize the impact of data loss by only removing an app that has more than three characters with encoded numbers outside the ASCII range.  "
   ]
  },
  {
   "cell_type": "code",
   "execution_count": 92,
   "metadata": {},
   "outputs": [],
   "source": [
    "#Updating  is_english()\n",
    "def is_english( string ) :\n",
    "    #Create a variable value to increment the number of character outside the range\n",
    "    value = 0\n",
    "    for character in string :\n",
    "        #checking if the character is in the range [0,127] using ord() build-in function\n",
    "        encode_number = ord( character )\n",
    "        #return False if encode_number > 127\n",
    "        if ( encode_number > 127 ) :\n",
    "            value +=1\n",
    "    \n",
    "    if ( value > 3) :\n",
    "        return False\n",
    "        \n",
    "    else :\n",
    "        return True"
   ]
  },
  {
   "cell_type": "markdown",
   "metadata": {},
   "source": [
    "Let's try our updated function above to check whether some app names are detected as English or non-English."
   ]
  },
  {
   "cell_type": "code",
   "execution_count": 93,
   "metadata": {},
   "outputs": [
    {
     "name": "stdout",
     "output_type": "stream",
     "text": [
      "Instagram is detected as English: True\n",
      "\n",
      "\n",
      "爱奇艺PPS -《欢乐颂2》电视剧热播 is detected as English: False\n",
      "\n",
      "\n",
      "Docs To Go™ Free Office Suite is detected as English: True\n",
      "\n",
      "\n",
      "Instachat 😜 is detected as English: True\n",
      "\n",
      "\n"
     ]
    }
   ],
   "source": [
    "app_names = [\"Instagram\", \n",
    "              \"爱奇艺PPS -《欢乐颂2》电视剧热播\", \n",
    "              \"Docs To Go™ Free Office Suite\",\n",
    "              \"Instachat 😜\"\n",
    "            ]\n",
    "#Looping through the app_names and print whether or not these app names are detected  as English\n",
    "for name in app_names :\n",
    "    print( str( name ) + \" is detected as English: \" + str( is_english( name) ))\n",
    "    print(\"\\n\")"
   ]
  },
  {
   "cell_type": "markdown",
   "metadata": {},
   "source": [
    "Below, we use the is_english() function to filter out non_english apps for both data sets."
   ]
  },
  {
   "cell_type": "code",
   "execution_count": 94,
   "metadata": {},
   "outputs": [
    {
     "name": "stdout",
     "output_type": "stream",
     "text": [
      "['Photo Editor & Candy Camera & Grid & ScrapBook', 'ART_AND_DESIGN', '4.1', '159', '19M', '10,000+', 'Free', '0', 'Everyone', 'Art & Design', 'January 7, 2018', '1.0.0', '4.0.3 and up']\n",
      "\n",
      "\n",
      "['U Launcher Lite – FREE Live Cool Themes, Hide Apps', 'ART_AND_DESIGN', '4.7', '87510', '8.7M', '5,000,000+', 'Free', '0', 'Everyone', 'Art & Design', 'August 1, 2018', '1.2.4', '4.0.3 and up']\n",
      "\n",
      "\n",
      "Number of rows:  9614\n",
      "Number of columns:  13\n",
      "\n",
      "\n",
      "['284882215', 'Facebook', '389879808', 'USD', '0.0', '2974676', '212', '3.5', '3.5', '95.0', '4+', 'Social Networking', '37', '1', '29', '1']\n",
      "\n",
      "\n",
      "['389801252', 'Instagram', '113954816', 'USD', '0.0', '2161558', '1289', '4.5', '4.0', '10.23', '12+', 'Photo & Video', '37', '0', '29', '1']\n",
      "\n",
      "\n",
      "Number of rows:  6183\n",
      "Number of columns:  16\n"
     ]
    }
   ],
   "source": [
    "#We are going to seperate English apps with the others\n",
    "google_play_english = []\n",
    "ios_english = []\n",
    "\n",
    "#Looping through the Google Play data sets\n",
    "for app in google_play_clean :\n",
    "    #Saved the app name in a variable named name\n",
    "    name = app[0]\n",
    "    if( is_english( name ) ) :\n",
    "        google_play_english.append( app )\n",
    "\n",
    "#Looping through the AppleStore data sets\n",
    "for app in ios :\n",
    "    #Saved the app name in a variable named name\n",
    "    name = app[1]\n",
    "    if( is_english( name ) ) :\n",
    "        ios_english.append( app )   \n",
    "\n",
    "explore_data(google_play_english, start = 0, end = 2, rows_and_columns = True)\n",
    "print(\"\\n\")\n",
    "explore_data( ios_english, start = 0, end = 2, rows_and_columns = True )"
   ]
  },
  {
   "cell_type": "markdown",
   "metadata": {},
   "source": [
    "Now we have seperated **9614** Google Play apps and **6983** ios apps"
   ]
  },
  {
   "cell_type": "markdown",
   "metadata": {},
   "source": [
    "## Isolating the Free Apps.\n",
    "\n",
    "As we mentioned in the introduction, we only build apps that are free to download and install, so we need to isolate only the free apps for our analysis. Below, we isolate the apps for both data sets."
   ]
  },
  {
   "cell_type": "code",
   "execution_count": 95,
   "metadata": {},
   "outputs": [
    {
     "name": "stdout",
     "output_type": "stream",
     "text": [
      "Number of Free Google Play english apps :\n",
      " \n",
      "['Photo Editor & Candy Camera & Grid & ScrapBook', 'ART_AND_DESIGN', '4.1', '159', '19M', '10,000+', 'Free', '0', 'Everyone', 'Art & Design', 'January 7, 2018', '1.0.0', '4.0.3 and up']\n",
      "\n",
      "\n",
      "['U Launcher Lite – FREE Live Cool Themes, Hide Apps', 'ART_AND_DESIGN', '4.7', '87510', '8.7M', '5,000,000+', 'Free', '0', 'Everyone', 'Art & Design', 'August 1, 2018', '1.2.4', '4.0.3 and up']\n",
      "\n",
      "\n",
      "Number of rows:  8864\n",
      "Number of columns:  13\n",
      "\n",
      "Number of Free Applestore english apps :\n",
      " \n",
      "['284882215', 'Facebook', '389879808', 'USD', '0.0', '2974676', '212', '3.5', '3.5', '95.0', '4+', 'Social Networking', '37', '1', '29', '1']\n",
      "\n",
      "\n",
      "['389801252', 'Instagram', '113954816', 'USD', '0.0', '2161558', '1289', '4.5', '4.0', '10.23', '12+', 'Photo & Video', '37', '0', '29', '1']\n",
      "\n",
      "\n",
      "Number of rows:  3222\n",
      "Number of columns:  16\n"
     ]
    }
   ],
   "source": [
    "#Isolating the free apps for both Google play and Apple Store\n",
    "google_play_free = []\n",
    "ios_free = []\n",
    "\n",
    "#Looping through Google Play  data set to isolate free english apps\n",
    "for app in google_play_english :\n",
    "    price = app[ 7 ]\n",
    "    if price == \"0\" :\n",
    "        google_play_free.append( app )\n",
    "        \n",
    "#Looping through AppleStore data set to isolate free english apps\n",
    "for app in ios_english:\n",
    "    price = app[ 4 ] \n",
    "    if price == \"0.0\" :\n",
    "        ios_free.append( app )\n",
    "        \n",
    "#Print the length of free google play english apps and free ios english apps\n",
    "print( \"Number of Free Google Play english apps :\\n \")\n",
    "explore_data( google_play_free, start = 0, end= 2, rows_and_columns = True )\n",
    "print( \"\\nNumber of Free Applestore english apps :\\n \")\n",
    "explore_data( ios_free, start = 0, end= 2, rows_and_columns = True )"
   ]
  },
  {
   "cell_type": "markdown",
   "metadata": {},
   "source": [
    "As we observed, Google Play data set contains **8864** free english apps while AppleStore holds **3222** free english apps."
   ]
  },
  {
   "cell_type": "markdown",
   "metadata": {},
   "source": [
    "## Most Common Apps by Genre.\n",
    "\n",
    "### Part one\n",
    "\n",
    "Actually, we have explored both data sets and  removed duplicate app data and isolated the free apps. Now is our time to begin our analysis.\n",
    "\n",
    "Remember that we are seeking for the kinds of apps that are likely to attract more users because our revenue is highly, influenced by the number of people using our apps.\n",
    "\n",
    "To minimize risk and overhead, our validation strategy for an app idea is comprised of three steps:\n",
    "\n",
    "1. Build a minimal Android version of the app, and add it to Google Play.\n",
    "2. If the app has a good response from users, we develop it further.\n",
    "3. If the app is profitable after six months, we build an iOS version of the app and add it to the App Store.\n",
    "\n",
    "Because our end goal is to add the app on both Google Play and the App Store, we need to find apps profiles that are successful on both markets.\n",
    "\n",
    "Let's start the analysis by getting a sense of what are the most common genres for each market. To do so, we'll  build frequency tables for the *prime_genre* column in The Apple Store data set, and the *genres* and *Categorie* columns in The Google Play data set."
   ]
  },
  {
   "cell_type": "markdown",
   "metadata": {},
   "source": [
    "Below, we build two functions to analyse the frequency tables :\n",
    "\n",
    "* One function to generate frequency tables that show percentages\n",
    "* Another function we can use to display the percentages in a descending order"
   ]
  },
  {
   "cell_type": "code",
   "execution_count": 96,
   "metadata": {},
   "outputs": [],
   "source": [
    "#Creating a function named freq_table() that takes in two inputs\n",
    "#dataset : a list of lists\n",
    "#index : an integer\n",
    "\n",
    "def freq_table( dataset, index ) :\n",
    "    \n",
    "    #Creating an empty dictionary\n",
    "    frequency_table = {}\n",
    "    total = 0\n",
    "    for row in dataset :\n",
    "        total += 1\n",
    "        value = row[ index ]\n",
    "        if( value in frequency_table ) :\n",
    "            frequency_table[ value ] += 1\n",
    "        else :\n",
    "            frequency_table[ value ] = 1\n",
    "    \n",
    "    frequency_table_percentage = {}\n",
    "    \n",
    "    for key in frequency_table :\n",
    "        percentage = ( frequency_table[key] / total ) *100\n",
    "        frequency_table_percentage [ key ] = percentage\n",
    "        \n",
    "            \n",
    "    #return the frequency table\n",
    "    return frequency_table_percentage\n",
    "\n",
    "#Creating a function to display the percentage in a descending order\n",
    "\n",
    "def display_table(dataset, index):\n",
    "    table = freq_table(dataset, index)\n",
    "    table_display = []\n",
    "    for key in table:\n",
    "        key_val_as_tuple = (table[key], key)\n",
    "        table_display.append(key_val_as_tuple)\n",
    "\n",
    "    table_sorted = sorted(table_display, reverse = True)\n",
    "    for entry in table_sorted:\n",
    "        print(entry[1], ':', entry[0])\n",
    "        \n"
   ]
  },
  {
   "cell_type": "markdown",
   "metadata": {},
   "source": [
    "Below, we are analysing the frequency table of the prime_genre column of the App store data set."
   ]
  },
  {
   "cell_type": "code",
   "execution_count": 98,
   "metadata": {},
   "outputs": [
    {
     "name": "stdout",
     "output_type": "stream",
     "text": [
      "Games : 58.16263190564867\n",
      "Entertainment : 7.883302296710118\n",
      "Photo & Video : 4.9658597144630665\n",
      "Education : 3.662321539416512\n",
      "Social Networking : 3.2898820608317814\n",
      "Shopping : 2.60707635009311\n",
      "Utilities : 2.5139664804469275\n",
      "Sports : 2.1415270018621975\n",
      "Music : 2.0484171322160147\n",
      "Health & Fitness : 2.0173805090006205\n",
      "Productivity : 1.7380509000620732\n",
      "Lifestyle : 1.5828677839851024\n",
      "News : 1.3345747982619491\n",
      "Travel : 1.2414649286157666\n",
      "Finance : 1.1173184357541899\n",
      "Weather : 0.8690254500310366\n",
      "Food & Drink : 0.8069522036002483\n",
      "Reference : 0.5586592178770949\n",
      "Business : 0.5276225946617008\n",
      "Book : 0.4345127250155183\n",
      "Navigation : 0.186219739292365\n",
      "Medical : 0.186219739292365\n",
      "Catalogs : 0.12414649286157665\n"
     ]
    }
   ],
   "source": [
    "#Display the frequency  table of the column prime_genre in iOS free app data set\n",
    "display_table(ios_free, index = 11 )"
   ]
  },
  {
   "cell_type": "markdown",
   "metadata": {},
   "source": [
    "At a glance, Games has the highest percentage( 58.16%) in the frequency table. Futhermore, Entertaiment and Photo & Video are also popular apps sorted by Genres with a percentage rate of 7.89% and 4.69% respectively. The apps with the lowest percentage rate is Catalogs( 0.12%), follows by Medical(0.18%) and Nagivation(0.18%).\n",
    "\n",
    "Based on the percentage  of each Genres in the frequency table, we can assume that iOS apps are most designed for entertainnment and the few ones for practical purpose.\n",
    "\n",
    "On the other hand, we cannot recommend an app profile for the App Store market based on the frequency table alone because an app could have a high percentage rate by Genres in the frequency table, while in the same time it has a low number of users.\n",
    "\n",
    "Let's continue by examning the Genres and Gategory columns of the Google Play data set. \n",
    "\n"
   ]
  },
  {
   "cell_type": "code",
   "execution_count": 99,
   "metadata": {},
   "outputs": [
    {
     "name": "stdout",
     "output_type": "stream",
     "text": [
      "FAMILY : 18.907942238267147\n",
      "GAME : 9.724729241877256\n",
      "TOOLS : 8.461191335740072\n",
      "BUSINESS : 4.591606498194946\n",
      "LIFESTYLE : 3.9034296028880866\n",
      "PRODUCTIVITY : 3.892148014440433\n",
      "FINANCE : 3.7003610108303246\n",
      "MEDICAL : 3.531137184115524\n",
      "SPORTS : 3.395758122743682\n",
      "PERSONALIZATION : 3.3167870036101084\n",
      "COMMUNICATION : 3.2378158844765346\n",
      "HEALTH_AND_FITNESS : 3.0798736462093865\n",
      "PHOTOGRAPHY : 2.944494584837545\n",
      "NEWS_AND_MAGAZINES : 2.7978339350180503\n",
      "SOCIAL : 2.6624548736462095\n",
      "TRAVEL_AND_LOCAL : 2.33528880866426\n",
      "SHOPPING : 2.2450361010830324\n",
      "BOOKS_AND_REFERENCE : 2.1435018050541514\n",
      "DATING : 1.861462093862816\n",
      "VIDEO_PLAYERS : 1.7937725631768955\n",
      "MAPS_AND_NAVIGATION : 1.3989169675090252\n",
      "FOOD_AND_DRINK : 1.2409747292418771\n",
      "EDUCATION : 1.1620036101083033\n",
      "ENTERTAINMENT : 0.9589350180505415\n",
      "LIBRARIES_AND_DEMO : 0.9363718411552346\n",
      "AUTO_AND_VEHICLES : 0.9250902527075812\n",
      "HOUSE_AND_HOME : 0.8235559566787004\n",
      "WEATHER : 0.8009927797833934\n",
      "EVENTS : 0.7107400722021661\n",
      "PARENTING : 0.6543321299638989\n",
      "ART_AND_DESIGN : 0.6430505415162455\n",
      "COMICS : 0.6204873646209386\n",
      "BEAUTY : 0.5979241877256317\n"
     ]
    }
   ],
   "source": [
    "#Display the frequency table of the column Category in The Google Play free app data set\n",
    "display_table(google_play_free, index = 1 )"
   ]
  },
  {
   "cell_type": "markdown",
   "metadata": {},
   "source": [
    "We can see that the scenario in the Google Play data set is the opposite of the App Store data set. Most of the apps are designed for practical use (Family, Tools, education ) . However, if we investigate further, we can observed that family category (which accounts for almost 19%) stands for mostly games for kids.  "
   ]
  },
  {
   "cell_type": "markdown",
   "metadata": {},
   "source": [
    "The frequency table for the Genres confirms our hypothesis. The practical apps are more represented on The Google Play than on the App Store.  \n",
    "\n",
    "## Most Popular Apps by Genre on the App Store.\n",
    "\n",
    "In the last step, we found that the App Store is dominated by apps designed for fun, while Google Play shows a more balanced landscape of both practical and fun apps. Now, let's figure out the kind of apps with the most users.\n",
    "\n",
    "To perform this action, we'll calculate the average number of user ratings per app genre on the App store. To do that, we need to:\n",
    "\n",
    "* Isolate the apps of each genre.\n",
    "* Sum up the user ratings for the user ratings for the apps of that genre. \n",
    "* Divide the Sum by the number of apps belonging to that genre( not by the total number of apps)/\n",
    "\n",
    "Let's begin the first step by generating a frequency table for the prime_genre column to get the unique app genres."
   ]
  },
  {
   "cell_type": "code",
   "execution_count": 100,
   "metadata": {},
   "outputs": [
    {
     "name": "stdout",
     "output_type": "stream",
     "text": [
      "Social Networking : 71548.34905660378\n",
      "Photo & Video : 28441.54375\n",
      "Games : 22788.6696905016\n",
      "Music : 57326.530303030304\n",
      "Reference : 74942.11111111111\n",
      "Health & Fitness : 23298.015384615384\n",
      "Weather : 52279.892857142855\n",
      "Utilities : 18684.456790123455\n",
      "Travel : 28243.8\n",
      "Shopping : 26919.690476190477\n",
      "News : 21248.023255813954\n",
      "Navigation : 86090.33333333333\n",
      "Lifestyle : 16485.764705882353\n",
      "Entertainment : 14029.830708661417\n",
      "Food & Drink : 33333.92307692308\n",
      "Sports : 23008.898550724636\n",
      "Book : 39758.5\n",
      "Finance : 31467.944444444445\n",
      "Education : 7003.983050847458\n",
      "Productivity : 21028.410714285714\n",
      "Business : 7491.117647058823\n",
      "Catalogs : 4004.0\n",
      "Medical : 612.0\n"
     ]
    }
   ],
   "source": [
    "# Store the frequency table for the prime_genre column in a variable \n",
    "# named unique_genres\n",
    "unique_genres = freq_table( dataset = ios_free, index = 11)\n",
    "\n",
    "# Looping through the unique genres if the App Store data set\n",
    "for genre in unique_genres :\n",
    "    #Initiating a variable named total to store the sum user ratings (the number of ratings, not actual ratings )\n",
    "    total = 0\n",
    "    #Initiating a varaible named jen_genre to save the number of apps secific to each gnere\n",
    "    len_genre = 0\n",
    "    \n",
    "    #Looping over ios_free\n",
    "    for app in ios_free :\n",
    "        genre_app = app[11]\n",
    "        # Check whether genre_app and genre are equal\n",
    "        if ( genre_app == genre) :\n",
    "            # save the number of user ratings of the app as a float\n",
    "            n_ratings = float( app[ 5 ] )\n",
    "            total += n_ratings\n",
    "            len_genre +=1\n",
    "            \n",
    "    #Computing the average number of user ratings\n",
    "    avg_user_ratings = total / len_genre\n",
    "    \n",
    "    #Print the app genre and the average number of user ratings\n",
    "    print(genre, \":\", avg_user_ratings)"
   ]
  },
  {
   "cell_type": "markdown",
   "metadata": {},
   "source": [
    "We can observe that practical apps have the higher average number of ratings compared to fun apps. Nagivation apps get the greatest number of user ratings with an average of  86091, follows by reference (74942) and Social Networking( 71598).\n",
    "\n",
    "Among the 3 top popular Genres in the Apple Store (Social Networking, photo & Video, and Games), there are fantastic apps  just like Facebook, Youtube and Pac-Man that redirect the  user attraction to them. If we decide to fight against them, we will automaticatally fail.\n",
    "\n",
    "However, we can merge great features built in those apps and create an app that will definetely impact customer experience. What about combine Google Map, Youtube and tinder features  to help companies in the informal sector to offer their service online? \n",
    "\n",
    "We can work with handworkers who repair shoes on the street everyday, and our app will yield features as follow :\n",
    "\n",
    "* Video adverts of the handworkers who perform the jobs\n",
    "* Google or Bing Maps to locate the place to buy the service to the technician\n",
    "* Geolocation to send a promotion or a discount to a user who is passing near a handworker.\n",
    "\n",
    "People interested in our app will be pay extra fees to get this/her name on the top the list."
   ]
  },
  {
   "cell_type": "markdown",
   "metadata": {},
   "source": [
    "Now, let's continue with the Google Play data set"
   ]
  },
  {
   "cell_type": "markdown",
   "metadata": {},
   "source": [
    "## Most Popular Apps by Genre on Google Play\n",
    "\n",
    "For the Google Play market, we already have data about the number of installs. Therefore we should be able to get a clearer picture about genre popularity. As install numbers is printed with special character, they seem to be not precise enough. We can see that most values are open-ended( 100+, 1000+, 5000+, etc...)"
   ]
  },
  {
   "cell_type": "code",
   "execution_count": 108,
   "metadata": {},
   "outputs": [
    {
     "name": "stdout",
     "output_type": "stream",
     "text": [
      "1,000,000+ : 15.726534296028879\n",
      "100,000+ : 11.552346570397113\n",
      "10,000,000+ : 10.548285198555957\n",
      "10,000+ : 10.198555956678701\n",
      "1,000+ : 8.393501805054152\n",
      "100+ : 6.915613718411552\n",
      "5,000,000+ : 6.825361010830325\n",
      "500,000+ : 5.561823104693141\n",
      "50,000+ : 4.7721119133574\n",
      "5,000+ : 4.512635379061372\n",
      "10+ : 3.5424187725631766\n",
      "500+ : 3.2490974729241873\n",
      "50,000,000+ : 2.3014440433213\n",
      "100,000,000+ : 2.1322202166064983\n",
      "50+ : 1.917870036101083\n",
      "5+ : 0.78971119133574\n",
      "1+ : 0.5076714801444043\n",
      "500,000,000+ : 0.2707581227436823\n",
      "1,000,000,000+ : 0.22563176895306858\n",
      "0+ : 0.04512635379061372\n",
      "0 : 0.01128158844765343\n"
     ]
    }
   ],
   "source": [
    "display_table(google_play_free, index = 5 )"
   ]
  },
  {
   "cell_type": "markdown",
   "metadata": {},
   "source": [
    "To remove characters from strings, we will use str.replace(old, new) method. As a result, Install number will be the same, which means that we'll consider that an app with 100.000+ has 100.000 installs, etc...\n",
    "\n",
    "Now let's calculate the average number of installs per app genre for the google Play data set."
   ]
  },
  {
   "cell_type": "code",
   "execution_count": 109,
   "metadata": {},
   "outputs": [
    {
     "name": "stdout",
     "output_type": "stream",
     "text": [
      "ART_AND_DESIGN :  1986335.0877192982\n",
      "AUTO_AND_VEHICLES :  647317.8170731707\n",
      "BEAUTY :  513151.88679245283\n",
      "BOOKS_AND_REFERENCE :  8767811.894736841\n",
      "BUSINESS :  1712290.1474201474\n",
      "COMICS :  817657.2727272727\n",
      "COMMUNICATION :  38456119.167247385\n",
      "DATING :  854028.8303030303\n",
      "EDUCATION :  1833495.145631068\n",
      "ENTERTAINMENT :  11640705.88235294\n",
      "EVENTS :  253542.22222222222\n",
      "FINANCE :  1387692.475609756\n",
      "FOOD_AND_DRINK :  1924897.7363636363\n",
      "HEALTH_AND_FITNESS :  4188821.9853479853\n",
      "HOUSE_AND_HOME :  1331540.5616438356\n",
      "LIBRARIES_AND_DEMO :  638503.734939759\n",
      "LIFESTYLE :  1437816.2687861272\n",
      "GAME :  15588015.603248259\n",
      "FAMILY :  3695641.8198090694\n",
      "MEDICAL :  120550.61980830671\n",
      "SOCIAL :  23253652.127118643\n",
      "SHOPPING :  7036877.311557789\n",
      "PHOTOGRAPHY :  17840110.40229885\n",
      "SPORTS :  3638640.1428571427\n",
      "TRAVEL_AND_LOCAL :  13984077.710144928\n",
      "TOOLS :  10801391.298666667\n",
      "PERSONALIZATION :  5201482.6122448975\n",
      "PRODUCTIVITY :  16787331.344927534\n",
      "PARENTING :  542603.6206896552\n",
      "WEATHER :  5074486.197183099\n",
      "VIDEO_PLAYERS :  24727872.452830188\n",
      "NEWS_AND_MAGAZINES :  9549178.467741935\n",
      "MAPS_AND_NAVIGATION :  4056941.7741935486\n"
     ]
    }
   ],
   "source": [
    "#Generating a frequency table for the Category column of the Google Play data\n",
    "unique_genres = freq_table( dataset = google_play_free, index = 1)\n",
    "\n",
    "#Looping through the unique genres of the Google Play data set\n",
    "for category in unique_genres :\n",
    "    total = 0\n",
    "    len_category = 0\n",
    "    #Looping through the Google Play data set\n",
    "    for app in google_play_free :\n",
    "        #saved app genre to a variable named category_app\n",
    "        category_app = app[ 1 ]\n",
    "        if( category_app == category ) :\n",
    "            #saved the number of installs\n",
    "            n_installs = app[5]\n",
    "            n_installs = n_installs.replace( \"+\", \"\")\n",
    "            n_installs = n_installs.replace( \",\", \"\")\n",
    "            #add up the number of installs to total \n",
    "            total += float( n_installs )\n",
    "            len_category += 1\n",
    "            \n",
    "    #Computing the average number of installs by dividing total by len_category\n",
    "    avg_n_installs = total / len_category\n",
    "    \n",
    "    #print the app genre and the average number of installs\n",
    "    print(category, \": \", avg_n_installs)"
   ]
  },
  {
   "cell_type": "markdown",
   "metadata": {},
   "source": [
    "We can oberse that in the Google Play, Communication apps are the most popular in the market ( 24727872 installs), follow by Video-Players categorie( 24727872 installs) and Social ( 23253652 installs ).\n",
    "\n",
    "When we investigate more, Communication categories is drived by Whatsapp0 (1,000,000, 000+ installs), Skype( 1,000,000,000) Google Duo( 500,000,000+ installs). Usually, those apps are free of charge and belong to mega big companies in the Wolrd(Facebook, Google and Microsoft). Obviously we can't fight against them.\n",
    "\n",
    "As a result, it seems that apps belong to Communication and Social Categeries  are tremendously popular both in the Google Play and Apple Store. Therefore, our apps could perfectly succeed in the both platform, and our revenue with grow faster.  \n",
    "*\n"
   ]
  },
  {
   "cell_type": "code",
   "execution_count": 111,
   "metadata": {},
   "outputs": [
    {
     "name": "stdout",
     "output_type": "stream",
     "text": [
      "WhatsApp Messenger :  1,000,000,000+\n",
      "Messenger for SMS :  10,000,000+\n",
      "My Tele2 :  5,000,000+\n",
      "imo beta free calls and text :  100,000,000+\n",
      "Contacts :  50,000,000+\n",
      "Call Free – Free Call :  5,000,000+\n",
      "Web Browser & Explorer :  5,000,000+\n",
      "Browser 4G :  10,000,000+\n",
      "MegaFon Dashboard :  10,000,000+\n",
      "ZenUI Dialer & Contacts :  10,000,000+\n",
      "Cricket Visual Voicemail :  10,000,000+\n",
      "TracFone My Account :  1,000,000+\n",
      "Xperia Link™ :  10,000,000+\n",
      "TouchPal Keyboard - Fun Emoji & Android Keyboard :  10,000,000+\n",
      "Skype Lite - Free Video Call & Chat :  5,000,000+\n",
      "My magenta :  1,000,000+\n",
      "Android Messages :  100,000,000+\n",
      "Google Duo - High Quality Video Calls :  500,000,000+\n",
      "Seznam.cz :  1,000,000+\n",
      "Antillean Gold Telegram (original version) :  100,000+\n",
      "AT&T Visual Voicemail :  10,000,000+\n",
      "GMX Mail :  10,000,000+\n",
      "Omlet Chat :  10,000,000+\n",
      "My Vodacom SA :  5,000,000+\n",
      "Microsoft Edge :  5,000,000+\n",
      "Messenger – Text and Video Chat for Free :  1,000,000,000+\n",
      "imo free video calls and chat :  500,000,000+\n",
      "Calls & Text by Mo+ :  5,000,000+\n",
      "free video calls and chat :  50,000,000+\n",
      "Skype - free IM & video calls :  1,000,000,000+\n",
      "Who :  100,000,000+\n",
      "GO SMS Pro - Messenger, Free Themes, Emoji :  100,000,000+\n",
      "Messaging+ SMS, MMS Free :  1,000,000+\n",
      "chomp SMS :  10,000,000+\n",
      "Glide - Video Chat Messenger :  10,000,000+\n",
      "Text SMS :  10,000,000+\n",
      "Talkray - Free Calls & Texts :  10,000,000+\n",
      "LINE: Free Calls & Messages :  500,000,000+\n",
      "GroupMe :  10,000,000+\n",
      "mysms SMS Text Messaging Sync :  1,000,000+\n",
      "2ndLine - Second Phone Number :  1,000,000+\n",
      "Google Chrome: Fast & Secure :  1,000,000,000+\n",
      "Firefox Browser fast & private :  100,000,000+\n",
      "Ninesky Browser :  1,000,000+\n",
      "Dolphin Browser - Fast, Private & Adblock🐬 :  50,000,000+\n",
      "UC Browser - Fast Download Private & Secure :  500,000,000+\n",
      "Ghostery Privacy Browser :  1,000,000+\n",
      "InBrowser - Incognito Browsing :  1,000,000+\n",
      "Lightning Web Browser :  500,000+\n",
      "Web Browser :  500,000+\n",
      "Contacts+ :  10,000,000+\n",
      "ExDialer - Dialer & Contacts :  10,000,000+\n",
      "PHONE for Google Voice & GTalk :  1,000,000+\n",
      "Safest Call Blocker :  1,000,000+\n",
      "Full Screen Caller ID :  5,000,000+\n",
      "Hiya - Caller ID & Block :  10,000,000+\n",
      "Mr. Number-Block calls & spam :  10,000,000+\n",
      "Should I Answer? :  1,000,000+\n",
      "RocketDial Dialer & Contacts :  1,000,000+\n",
      "CIA - Caller ID & Call Blocker :  5,000,000+\n",
      "Calls Blacklist - Call Blocker :  10,000,000+\n",
      "Call Control - Call Blocker :  5,000,000+\n",
      "True Contact - Real Caller ID :  1,000,000+\n",
      "Video Caller Id :  1,000,000+\n",
      "Sync.ME – Caller ID & Block :  5,000,000+\n",
      "Burner - Free Phone Number :  1,000,000+\n",
      "Caller ID + :  1,000,000+\n",
      "Gmail :  1,000,000,000+\n",
      "K-9 Mail :  5,000,000+\n",
      "myMail – Email for Hotmail, Gmail and Outlook Mail :  10,000,000+\n",
      "Email TypeApp - Mail App :  1,000,000+\n",
      "All Email Providers :  1,000,000+\n",
      "Newton Mail - Email App for Gmail, Outlook, IMAP :  1,000,000+\n",
      "GO Notifier :  10,000,000+\n",
      "Mail.Ru - Email App :  50,000,000+\n",
      "Mail1Click - Secure Mail :  10,000+\n",
      "Daum Mail - Next Mail :  5,000,000+\n",
      "mail.com mail :  1,000,000+\n",
      "SolMail - All-in-One email app :  500,000+\n",
      "Hangouts :  1,000,000,000+\n",
      "Vonage Mobile® Call Video Text :  1,000,000+\n",
      "JusTalk - Free Video Calls and Fun Video Chat :  5,000,000+\n",
      "Azar :  50,000,000+\n",
      "LokLok: Draw on a Lock Screen :  500,000+\n",
      "Discord - Chat for Gamers :  10,000,000+\n",
      "Messenger Lite: Free Calls & Messages :  100,000,000+\n",
      "AntennaPict β :  1,000,000+\n",
      "Talkatone: Free Texts, Calls & Phone Number :  10,000,000+\n",
      "Kik :  100,000,000+\n",
      "K-@ Mail - Email App :  100,000+\n",
      "KakaoTalk: Free Calls & Text :  100,000,000+\n",
      "K-9 Material (unofficial) :  5,000+\n",
      "M star Dialer :  100,000+\n",
      "Free WiFi Connect :  10,000,000+\n",
      "m:go BiH :  10,000+\n",
      "N-Com Wizard :  50,000+\n",
      "Opera Mini - fast web browser :  100,000,000+\n",
      "Opera Browser: Fast and Secure :  100,000,000+\n",
      "Opera Mini browser beta :  10,000,000+\n",
      "Psiphon Pro - The Internet Freedom VPN :  10,000,000+\n",
      "ICQ — Video Calls & Chat Messenger :  10,000,000+\n",
      "Telegram :  100,000,000+\n",
      "AT&T Messages for Tablet :  1,000,000+\n",
      "T-Mobile DIGITS :  100,000+\n",
      "Truecaller: Caller ID, SMS spam blocking & Dialer :  100,000,000+\n",
      "Portable Wi-Fi hotspot :  10,000,000+\n",
      "AT&T Call Protect :  5,000,000+\n",
      "U - Webinars, Meetings & Messenger :  500,000+\n",
      "UC Browser Mini -Tiny Fast Private & Secure :  100,000,000+\n",
      "/u/app :  10,000+\n",
      "[verify-U] VideoIdent :  10,000+\n",
      "Viber Messenger :  500,000,000+\n",
      "WeChat :  100,000,000+\n",
      "WhatsApp Business :  10,000,000+\n",
      "WhatsCall Free Global Phone Call App & Cheap Calls :  10,000,000+\n",
      "X Browser :  50,000+\n",
      "Yahoo Mail – Stay Organized :  100,000,000+\n",
      "Free Adblocker Browser - Adblock & Popup Blocker :  10,000,000+\n",
      "Adblock Browser for Android :  10,000,000+\n",
      "CM Browser - Ad Blocker , Fast Download , Privacy :  50,000,000+\n",
      "Adblock Plus for Samsung Internet - Browse safe. :  1,000,000+\n",
      "Ad Blocker Turbo - Adblocker Browser :  10,000+\n",
      "Brave Browser: Fast AdBlocker :  5,000,000+\n",
      "AG Contacts, Lite edition :  5,000+\n",
      "Oklahoma Ag Co-op Council :  10+\n",
      "Bee'ah Employee App :  100+\n",
      "tournaments and more.aj.2 :  100+\n",
      "Aj.Petra :  100+\n",
      "AK Phone :  5,000+\n",
      "PlacarTv Futebol Ao Vivo :  100,000+\n",
      "WiFi Access Point (hotspot) :  100,000+\n",
      "Access Point Names :  10,000+\n",
      "Puffin Web Browser :  10,000,000+\n",
      "ClanHQ :  10,000+\n",
      "Ear Agent: Super Hearing :  5,000,000+\n",
      "Google Voice :  10,000,000+\n",
      "Google Allo :  10,000,000+\n",
      "AU Call Blocker - Block Unwanted Calls Texts 2018 :  1,000+\n",
      "Baby Monitor AV :  100,000+\n",
      "AV Phone :  1,000+\n",
      "AW - free video calls and chat :  1,000,000+\n",
      "Katalogen.ax :  100+\n",
      "AZ Browser. Private & Download :  100,000+\n",
      "BA SALES :  1+\n",
      "BD Data Plan (3G & 4G) :  500,000+\n",
      "BD Internet Packages (Updated) :  50,000+\n",
      "BD Dialer :  10,000+\n",
      "BD Live Call :  5,000+\n",
      "Best Browser BD social networking :  10+\n",
      "Traffic signs BD :  500+\n",
      "BF Browser by Betfilter - Stop Gambling Today! :  10,000+\n",
      "My BF App :  50,000+\n",
      "BH Mail :  1,000+\n",
      "Zalo – Video Call :  50,000,000+\n",
      "BJ - Confidential :  10+\n",
      "BK Chat :  1,000+\n",
      "Of the wall Arapaho bk :  5+\n",
      "AC-BL :  50+\n",
      "BBM - Free Calls & Messages :  100,000,000+\n",
      "DMR BrandMeister Tool :  10,000+\n",
      "BBMoji - Your personalized BBM Stickers :  1,000,000+\n",
      "BN MALLORCA Radio :  1,000+\n",
      "BQ Partners :  1,000+\n",
      "BS-Mobile :  50+\n",
      "ATC Unico BS :  500+\n",
      "BT One Voice mobile access :  5,000+\n",
      "BT Messenger :  50,000+\n",
      "BT One Phone Mobile App :  10,000+\n",
      "SW-100.tch by Callstel :  1,000,000+\n",
      "BT MeetMe with Dolby Voice :  100,000+\n",
      "Bluetooth Auto Connect :  5,000,000+\n",
      "AudioBT: BT audio GPS/SMS/Text :  50,000+\n",
      "BV :  100+\n",
      "Feel Performer :  10,000+\n",
      "Tiny Call Confirm :  1,000,000+\n",
      "CB Radio Chat - for friends! :  1,000,000+\n",
      "CB On Mobile :  100,000+\n",
      "Virtual Walkie Talkie :  1,000,000+\n",
      "Channel 19 :  100,000+\n",
      "Cb browser :  50+\n",
      "CF Chat: Connecting Friends :  100+\n",
      "retteMi.ch :  5,000+\n",
      "Chrome Dev :  5,000,000+\n",
      "CJ Browser - Fast & Private :  100+\n",
      "CJ DVD Rentals :  100+\n",
      "CK Call NEW :  10+\n",
      "CM Transfer - Share any files with friends nearby :  5,000,000+\n",
      "mail.co.uk Mail :  5,000+\n",
      "ClanPlay: Community and Tools for Gamers :  1,000,000+\n",
      "CQ-Mobile :  1,000+\n",
      "CQ-Alert :  500+\n",
      "QRZ Assistant :  100,000+\n",
      "Pocket Prefix Plus :  10,000+\n",
      "Ham Radio Prefixes :  10,000+\n",
      "CS Customizer :  1,000+\n",
      "CS Browser | #1 & BEST BROWSER :  1,000+\n",
      "CS Browser Beta :  5,000+\n",
      "My Vodafone (GR) :  1,000,000+\n",
      "IZ2UUF Morse Koch CW :  50,000+\n",
      "C W Browser :  100+\n",
      "CW Bluetooth SPP :  100+\n",
      "CW BLE Peripheral Simulator :  500+\n",
      "Morse Code Reader :  100,000+\n",
      "Learn Morse Code - G0HYN Learn Morse :  5,000+\n",
      "Ring :  10,000+\n",
      "Hyundai CX Conference :  50+\n",
      "Cy Messenger :  100+\n",
      "Amadeus GR & CY :  100+\n",
      "Hlášenírozhlasu.cz :  10+\n",
      "SMS Sender - sluzba.cz :  1,000+\n",
      "WEB.DE Mail :  10,000,000+\n",
      "Your Freedom VPN Client :  5,000,000+\n",
      "CallApp: Caller ID, Blocker & Phone Call Recorder :  10,000,000+\n",
      "Rádio Sol Nascente DF :  500+\n",
      "DG Card :  100+\n",
      "Whoscall - Caller ID & Block :  10,000,000+\n",
      "DK Browser :  10+\n",
      "cluster.dk :  1,000+\n",
      "DK TEL Dialer :  50+\n",
      "DM for WhatsApp :  5,000+\n",
      "DM Talk New :  5,000+\n",
      "DM - The Offical Messaging App :  10+\n",
      "DM Tracker :  1,000+\n",
      "Call Blocker & Blacklist :  1,000+\n",
      "ReadyOp DT :  1,000+\n",
      "DU Browser—Browse fast & fun :  10,000,000+\n",
      "Caller ID & Call Block - DU Caller :  5,000,000+\n",
      "BlueDV AMBE :  1,000+\n",
      "DW Contacts & Phone & Dialer :  1,000,000+\n",
      "Deaf World DW :  10,000+\n",
      "Ham DX Cluster & Spots Finder :  5,000+\n",
      "Mircules DX Cluster Lite :  5,000+\n",
      "3G DZ Configuration :  50,000+\n",
      "chat dz :  100+\n",
      "love sms good morning :  5,000+\n",
      "Goodbox - Mega App :  100,000+\n",
      "Call Blocker - Blacklist, SMS Blocker :  1,000,000+\n",
      "[EF]ShoutBox :  100+\n",
      "Eg Call :  10,000+\n",
      "ei :  10+\n",
      "EJ messenger :  10+\n",
      "Ek IRA :  10+\n",
      "Orfox: Tor Browser for Android :  10,000,000+\n",
      "EO Mumbai :  10+\n",
      "EP RSS Reader :  100+\n",
      "Voxer Walkie Talkie Messenger :  10,000,000+\n",
      "ES-1 :  500+\n",
      "Hangouts Dialer - Call Phones :  10,000,000+\n",
      "EU Council :  1,000+\n",
      "Council Voting Calculator :  5,000+\n",
      "Have your say on Europe :  500+\n",
      "Programi podrške EU :  100+\n",
      "Inbox.eu :  10,000+\n",
      "Web Browser for Android :  1,000,000+\n",
      "Everbridge :  100,000+\n",
      "Best Auto Call Recorder Free :  500+\n",
      "EZ Wifi Notification :  10,000+\n",
      "Test Server SMS FA :  5+\n",
      "Lite for Facebook Messenger :  1,000,000+\n",
      "FC Browser - Focus Privacy Browser :  1,000+\n",
      "EHiN-FH conferenceapp :  100+\n",
      "Carpooling FH Hagenberg :  100+\n",
      "Wi-Fi Auto-connect :  1,000,000+\n",
      "Talkie - Wi-Fi Calling, Chats, File Sharing :  500,000+\n",
      "WeFi - Free Fast WiFi Connect & Find Wi-Fi Map :  1,000,000+\n",
      "Sat-Fi :  5,000+\n",
      "Portable Wi-Fi hotspot Free :  100,000+\n",
      "TownWiFi | Wi-Fi Everywhere :  500,000+\n",
      "Jazz Wi-Fi :  10,000+\n",
      "Sat-Fi Voice :  1,000+\n",
      "Free Wi-fi HotspoT :  50,000+\n",
      "FN Web Radio :  10+\n",
      "FNH Payment Info :  10+\n",
      "MARKET FO :  100+\n",
      "FO OP St-Nazaire :  100+\n",
      "FO SODEXO :  100+\n",
      "FO RCBT :  100+\n",
      "FO Interim :  100+\n",
      "FO PSA Sept-Fons :  100+\n",
      "FO AIRBUS TLSE :  1,000+\n",
      "FO STELIA Méaulte :  100+\n",
      "FO AIRBUS Nantes :  100+\n",
      "Firefox Focus: The privacy browser :  1,000,000+\n",
      "FP Connect :  100+\n",
      "FreedomPop Messaging Phone/SIM :  500,000+\n",
      "FP Live :  10+\n",
      "HipChat - beta version :  50,000+\n"
     ]
    }
   ],
   "source": [
    "for app in google_play_free :\n",
    "    if ( app[ 1 ] == \"COMMUNICATION\" ) :\n",
    "        print(app[0], \": \", app[5])"
   ]
  },
  {
   "cell_type": "markdown",
   "metadata": {},
   "source": [
    "## Conclusion\n",
    "\n",
    "Throughout this project, we handle two data sets in the aim to understand the type of apps that attract users both in The Google Play and Apple Store. We started by exploring the data sets to become familar with the data. then, we performed a data-cleaning process to delete error data and duplicate entries, and we also separated free and English apps from the others. After that, we analyzed iOS free english as well as Google Play   data sets.\n",
    "\n",
    "At the end of our analysis, we recommended apps that combine the benefits of apps that belong to the most popular Categeries in both markets, including Social Networking, Video Player and Communication. Our app will offer an opportunity for informal workers to break into the internet, and increase their revenue. To acheive this goal, we will provide  non-free adverts, geolocation and mapping technology. At a consequence, our users will directly reach out to them.   \n"
   ]
  }
 ],
 "metadata": {
  "kernelspec": {
   "display_name": "Python 3",
   "language": "python",
   "name": "python3"
  },
  "language_info": {
   "codemirror_mode": {
    "name": "ipython",
    "version": 3
   },
   "file_extension": ".py",
   "mimetype": "text/x-python",
   "name": "python",
   "nbconvert_exporter": "python",
   "pygments_lexer": "ipython3",
   "version": "3.7.6"
  }
 },
 "nbformat": 4,
 "nbformat_minor": 4
}
